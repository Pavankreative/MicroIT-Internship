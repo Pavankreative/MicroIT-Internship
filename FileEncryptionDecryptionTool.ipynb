{
 "cells": [
  {
   "cell_type": "code",
   "execution_count": 1,
   "id": "3adffae3-90de-49e7-a5b3-658342f4526b",
   "metadata": {},
   "outputs": [
    {
     "name": "stdout",
     "output_type": "stream",
     "text": [
      "Requirement already satisfied: cryptography in c:\\users\\dell\\appdata\\local\\programs\\python\\python313\\lib\\site-packages (44.0.2)\n",
      "Requirement already satisfied: cffi>=1.12 in c:\\users\\dell\\appdata\\local\\programs\\python\\python313\\lib\\site-packages (from cryptography) (1.17.1)\n",
      "Requirement already satisfied: pycparser in c:\\users\\dell\\appdata\\local\\programs\\python\\python313\\lib\\site-packages (from cffi>=1.12->cryptography) (2.22)\n"
     ]
    }
   ],
   "source": [
    "!pip install cryptography"
   ]
  },
  {
   "cell_type": "code",
   "execution_count": 2,
   "id": "b2f81f6e-09fa-49fc-a5b2-cf6cce72142b",
   "metadata": {},
   "outputs": [
    {
     "name": "stdout",
     "output_type": "stream",
     "text": [
      "Encrypted: b'gAAAAABn_5PZqBsN2lDIT-AMBPLmmZiLfRpg-vtWqmS5We8K7q6yFv-JfKflp0OoIh8z7n3y2xwc3RLvnvEomJZaQu3rtjxyMQ=='\n",
      "Decrypted: b'Hello, Pavan!'\n"
     ]
    }
   ],
   "source": [
    "from cryptography.fernet import Fernet\n",
    "\n",
    "key = Fernet.generate_key()\n",
    "cipher = Fernet(key)\n",
    "encrypted = cipher.encrypt(b\"Hello, Pavan!\")\n",
    "print(\"Encrypted:\", encrypted)\n",
    "\n",
    "decrypted = cipher.decrypt(encrypted)\n",
    "print(\"Decrypted:\", decrypted)"
   ]
  },
  {
   "cell_type": "code",
   "execution_count": 8,
   "id": "1fbceb67-3928-442c-aebc-e8cae7af48c2",
   "metadata": {},
   "outputs": [],
   "source": [
    "from cryptography.fernet import Fernet"
   ]
  },
  {
   "cell_type": "code",
   "execution_count": 9,
   "id": "cb447efd-e81f-4641-87a0-5313e25fde00",
   "metadata": {},
   "outputs": [
    {
     "name": "stdout",
     "output_type": "stream",
     "text": [
      "Key generated successfully!\n"
     ]
    }
   ],
   "source": [
    "key = Fernet.generate_key()\n",
    "cipher = Fernet(key)\n",
    "print(\"Key generated successfully!\")"
   ]
  },
  {
   "cell_type": "code",
   "execution_count": 12,
   "id": "39025e26-c7d0-4757-baa9-2e5b37379698",
   "metadata": {},
   "outputs": [],
   "source": [
    "# Password-protected key generation\n",
    "from cryptography.fernet import Fernet\n",
    "from cryptography.hazmat.primitives.kdf.pbkdf2 import PBKDF2HMAC\n",
    "from cryptography.hazmat.primitives import hashes\n",
    "from cryptography.hazmat.backends import default_backend\n",
    "import base64, os\n",
    "\n",
    "def generate_encrypted_key(password: str):\n",
    "    key = Fernet.generate_key()\n",
    "    \n",
    "    salt = os.urandom(16)\n",
    "    kdf = PBKDF2HMAC(\n",
    "        algorithm=hashes.SHA256(),\n",
    "        length=32,\n",
    "        salt=salt,\n",
    "        iterations=100000,\n",
    "        backend=default_backend()\n",
    "    )\n",
    "    password_key = base64.urlsafe_b64encode(kdf.derive(password.encode()))\n",
    "    f = Fernet(password_key)\n",
    "    encrypted_key = f.encrypt(key)\n",
    "    \n",
    "    with open(\"enc_key.key\", \"wb\") as file:\n",
    "        file.write(salt + encrypted_key)\n",
    "    \n",
    "    print(\"Encrypted Fernet key saved as 'enc_key.key'\")"
   ]
  },
  {
   "cell_type": "code",
   "execution_count": 13,
   "id": "3d273964-9dd7-4028-bdd9-28960ebb2f75",
   "metadata": {},
   "outputs": [],
   "source": [
    "def load_key(password: str):\n",
    "    with open(\"enc_key.key\", \"rb\") as file:\n",
    "        data = file.read()\n",
    "        salt = data[:16]\n",
    "        encrypted_key = data[16:]\n",
    "        \n",
    "        kdf = PBKDF2HMAC(\n",
    "            algorithm=hashes.SHA256(),\n",
    "            length=32,\n",
    "            salt=salt,\n",
    "            iterations=100000,\n",
    "            backend=default_backend()\n",
    "        )\n",
    "        password_key = base64.urlsafe_b64encode(kdf.derive(password.encode()))\n",
    "        f = Fernet(password_key)\n",
    "        key = f.decrypt(encrypted_key)\n",
    "        return key"
   ]
  },
  {
   "cell_type": "code",
   "execution_count": 14,
   "id": "f33e505f-9efd-4e87-aa25-a5aee7ee04ca",
   "metadata": {},
   "outputs": [],
   "source": [
    "def encrypt_file(file_path, key):\n",
    "    f = Fernet(key)\n",
    "    with open(file_path, 'rb') as file:\n",
    "        data = file.read()\n",
    "    encrypted_data = f.encrypt(data)\n",
    "    with open(file_path + \".enc\", 'wb') as file:\n",
    "        file.write(encrypted_data)\n",
    "    print(\"File encrypted successfully!\")\n",
    "\n",
    "def decrypt_file(file_path, key):\n",
    "    f = Fernet(key)\n",
    "    with open(file_path, 'rb') as file:\n",
    "        encrypted_data = file.read()\n",
    "    decrypted_data = f.decrypt(encrypted_data)\n",
    "    original_file = file_path.replace(\".enc\", \"\")\n",
    "    with open(original_file, 'wb') as file:\n",
    "        file.write(decrypted_data)\n",
    "    print(\"File decrypted successfully!\")"
   ]
  },
  {
   "cell_type": "code",
   "execution_count": 16,
   "id": "573520ab-34d3-4cf4-b3e9-dbd3ab0d2727",
   "metadata": {},
   "outputs": [
    {
     "ename": "FileNotFoundError",
     "evalue": "[Errno 2] No such file or directory: 'enc_key.key'",
     "output_type": "error",
     "traceback": [
      "\u001b[31m---------------------------------------------------------------------------\u001b[39m",
      "\u001b[31mFileNotFoundError\u001b[39m                         Traceback (most recent call last)",
      "\u001b[36mCell\u001b[39m\u001b[36m \u001b[39m\u001b[32mIn[16]\u001b[39m\u001b[32m, line 6\u001b[39m\n\u001b[32m      1\u001b[39m \u001b[38;5;66;03m#GENERATE KEY\u001b[39;00m\n\u001b[32m      2\u001b[39m \u001b[38;5;66;03m# Only run once\u001b[39;00m\n\u001b[32m      3\u001b[39m \u001b[38;5;66;03m# generate_encrypted_key(\"yourpassword123\")\u001b[39;00m\n\u001b[32m      4\u001b[39m \n\u001b[32m      5\u001b[39m \u001b[38;5;66;03m# LOAD KEY\u001b[39;00m\n\u001b[32m----> \u001b[39m\u001b[32m6\u001b[39m key = \u001b[43mload_key\u001b[49m\u001b[43m(\u001b[49m\u001b[33;43m\"\u001b[39;49m\u001b[33;43myourpassword123\u001b[39;49m\u001b[33;43m\"\u001b[39;49m\u001b[43m)\u001b[49m\n\u001b[32m      8\u001b[39m \u001b[38;5;66;03m# ENCRYPT OR DECRYPT\u001b[39;00m\n\u001b[32m      9\u001b[39m encrypt_file(\u001b[33m\"\u001b[39m\u001b[33msample.txt\u001b[39m\u001b[33m\"\u001b[39m, key)\n",
      "\u001b[36mCell\u001b[39m\u001b[36m \u001b[39m\u001b[32mIn[13]\u001b[39m\u001b[32m, line 2\u001b[39m, in \u001b[36mload_key\u001b[39m\u001b[34m(password)\u001b[39m\n\u001b[32m      1\u001b[39m \u001b[38;5;28;01mdef\u001b[39;00m\u001b[38;5;250m \u001b[39m\u001b[34mload_key\u001b[39m(password: \u001b[38;5;28mstr\u001b[39m):\n\u001b[32m----> \u001b[39m\u001b[32m2\u001b[39m     \u001b[38;5;28;01mwith\u001b[39;00m \u001b[38;5;28;43mopen\u001b[39;49m\u001b[43m(\u001b[49m\u001b[33;43m\"\u001b[39;49m\u001b[33;43menc_key.key\u001b[39;49m\u001b[33;43m\"\u001b[39;49m\u001b[43m,\u001b[49m\u001b[43m \u001b[49m\u001b[33;43m\"\u001b[39;49m\u001b[33;43mrb\u001b[39;49m\u001b[33;43m\"\u001b[39;49m\u001b[43m)\u001b[49m \u001b[38;5;28;01mas\u001b[39;00m file:\n\u001b[32m      3\u001b[39m         data = file.read()\n\u001b[32m      4\u001b[39m         salt = data[:\u001b[32m16\u001b[39m]\n",
      "\u001b[36mFile \u001b[39m\u001b[32m~\\AppData\\Local\\Programs\\Python\\Python313\\Lib\\site-packages\\IPython\\core\\interactiveshell.py:326\u001b[39m, in \u001b[36m_modified_open\u001b[39m\u001b[34m(file, *args, **kwargs)\u001b[39m\n\u001b[32m    319\u001b[39m \u001b[38;5;28;01mif\u001b[39;00m file \u001b[38;5;129;01min\u001b[39;00m {\u001b[32m0\u001b[39m, \u001b[32m1\u001b[39m, \u001b[32m2\u001b[39m}:\n\u001b[32m    320\u001b[39m     \u001b[38;5;28;01mraise\u001b[39;00m \u001b[38;5;167;01mValueError\u001b[39;00m(\n\u001b[32m    321\u001b[39m         \u001b[33mf\u001b[39m\u001b[33m\"\u001b[39m\u001b[33mIPython won\u001b[39m\u001b[33m'\u001b[39m\u001b[33mt let you open fd=\u001b[39m\u001b[38;5;132;01m{\u001b[39;00mfile\u001b[38;5;132;01m}\u001b[39;00m\u001b[33m by default \u001b[39m\u001b[33m\"\u001b[39m\n\u001b[32m    322\u001b[39m         \u001b[33m\"\u001b[39m\u001b[33mas it is likely to crash IPython. If you know what you are doing, \u001b[39m\u001b[33m\"\u001b[39m\n\u001b[32m    323\u001b[39m         \u001b[33m\"\u001b[39m\u001b[33myou can use builtins\u001b[39m\u001b[33m'\u001b[39m\u001b[33m open.\u001b[39m\u001b[33m\"\u001b[39m\n\u001b[32m    324\u001b[39m     )\n\u001b[32m--> \u001b[39m\u001b[32m326\u001b[39m \u001b[38;5;28;01mreturn\u001b[39;00m \u001b[43mio_open\u001b[49m\u001b[43m(\u001b[49m\u001b[43mfile\u001b[49m\u001b[43m,\u001b[49m\u001b[43m \u001b[49m\u001b[43m*\u001b[49m\u001b[43margs\u001b[49m\u001b[43m,\u001b[49m\u001b[43m \u001b[49m\u001b[43m*\u001b[49m\u001b[43m*\u001b[49m\u001b[43mkwargs\u001b[49m\u001b[43m)\u001b[49m\n",
      "\u001b[31mFileNotFoundError\u001b[39m: [Errno 2] No such file or directory: 'enc_key.key'"
     ]
    }
   ],
   "source": [
    "#GENERATE KEY\n",
    "# Only run once\n",
    "# generate_encrypted_key(\"yourpassword123\")\n",
    "\n",
    "# LOAD KEY\n",
    "key = load_key(\"yourpassword123\")\n",
    "\n",
    "# ENCRYPT OR DECRYPT\n",
    "encrypt_file(\"sample.txt\", key)\n",
    "# decrypt_file(\"sample.txt.enc\", key)"
   ]
  },
  {
   "cell_type": "code",
   "execution_count": 18,
   "id": "71a52ee6-c464-40b2-97d2-3f0ed0ca0e6c",
   "metadata": {},
   "outputs": [
    {
     "name": "stdout",
     "output_type": "stream",
     "text": [
      "Encrypted Fernet key saved as 'enc_key.key'\n"
     ]
    }
   ],
   "source": [
    "generate_encrypted_key(\"yourpassword123\")"
   ]
  },
  {
   "cell_type": "code",
   "execution_count": 20,
   "id": "8db6946f-080a-4c40-ba28-aeeec585430d",
   "metadata": {},
   "outputs": [
    {
     "ename": "FileNotFoundError",
     "evalue": "[Errno 2] No such file or directory: 'simple.txt'",
     "output_type": "error",
     "traceback": [
      "\u001b[31m---------------------------------------------------------------------------\u001b[39m",
      "\u001b[31mFileNotFoundError\u001b[39m                         Traceback (most recent call last)",
      "\u001b[36mCell\u001b[39m\u001b[36m \u001b[39m\u001b[32mIn[20]\u001b[39m\u001b[32m, line 2\u001b[39m\n\u001b[32m      1\u001b[39m key=load_key(\u001b[33m\"\u001b[39m\u001b[33myourpassword123\u001b[39m\u001b[33m\"\u001b[39m)\n\u001b[32m----> \u001b[39m\u001b[32m2\u001b[39m \u001b[43mencrypt_file\u001b[49m\u001b[43m(\u001b[49m\u001b[33;43m\"\u001b[39;49m\u001b[33;43msimple.txt\u001b[39;49m\u001b[33;43m\"\u001b[39;49m\u001b[43m,\u001b[49m\u001b[43mkey\u001b[49m\u001b[43m)\u001b[49m\n\u001b[32m      3\u001b[39m \u001b[38;5;66;03m#decrypt_file(\"simpple.txt.enc\",key)\u001b[39;00m\n",
      "\u001b[36mCell\u001b[39m\u001b[36m \u001b[39m\u001b[32mIn[14]\u001b[39m\u001b[32m, line 3\u001b[39m, in \u001b[36mencrypt_file\u001b[39m\u001b[34m(file_path, key)\u001b[39m\n\u001b[32m      1\u001b[39m \u001b[38;5;28;01mdef\u001b[39;00m\u001b[38;5;250m \u001b[39m\u001b[34mencrypt_file\u001b[39m(file_path, key):\n\u001b[32m      2\u001b[39m     f = Fernet(key)\n\u001b[32m----> \u001b[39m\u001b[32m3\u001b[39m     \u001b[38;5;28;01mwith\u001b[39;00m \u001b[38;5;28;43mopen\u001b[39;49m\u001b[43m(\u001b[49m\u001b[43mfile_path\u001b[49m\u001b[43m,\u001b[49m\u001b[43m \u001b[49m\u001b[33;43m'\u001b[39;49m\u001b[33;43mrb\u001b[39;49m\u001b[33;43m'\u001b[39;49m\u001b[43m)\u001b[49m \u001b[38;5;28;01mas\u001b[39;00m file:\n\u001b[32m      4\u001b[39m         data = file.read()\n\u001b[32m      5\u001b[39m     encrypted_data = f.encrypt(data)\n",
      "\u001b[36mFile \u001b[39m\u001b[32m~\\AppData\\Local\\Programs\\Python\\Python313\\Lib\\site-packages\\IPython\\core\\interactiveshell.py:326\u001b[39m, in \u001b[36m_modified_open\u001b[39m\u001b[34m(file, *args, **kwargs)\u001b[39m\n\u001b[32m    319\u001b[39m \u001b[38;5;28;01mif\u001b[39;00m file \u001b[38;5;129;01min\u001b[39;00m {\u001b[32m0\u001b[39m, \u001b[32m1\u001b[39m, \u001b[32m2\u001b[39m}:\n\u001b[32m    320\u001b[39m     \u001b[38;5;28;01mraise\u001b[39;00m \u001b[38;5;167;01mValueError\u001b[39;00m(\n\u001b[32m    321\u001b[39m         \u001b[33mf\u001b[39m\u001b[33m\"\u001b[39m\u001b[33mIPython won\u001b[39m\u001b[33m'\u001b[39m\u001b[33mt let you open fd=\u001b[39m\u001b[38;5;132;01m{\u001b[39;00mfile\u001b[38;5;132;01m}\u001b[39;00m\u001b[33m by default \u001b[39m\u001b[33m\"\u001b[39m\n\u001b[32m    322\u001b[39m         \u001b[33m\"\u001b[39m\u001b[33mas it is likely to crash IPython. If you know what you are doing, \u001b[39m\u001b[33m\"\u001b[39m\n\u001b[32m    323\u001b[39m         \u001b[33m\"\u001b[39m\u001b[33myou can use builtins\u001b[39m\u001b[33m'\u001b[39m\u001b[33m open.\u001b[39m\u001b[33m\"\u001b[39m\n\u001b[32m    324\u001b[39m     )\n\u001b[32m--> \u001b[39m\u001b[32m326\u001b[39m \u001b[38;5;28;01mreturn\u001b[39;00m \u001b[43mio_open\u001b[49m\u001b[43m(\u001b[49m\u001b[43mfile\u001b[49m\u001b[43m,\u001b[49m\u001b[43m \u001b[49m\u001b[43m*\u001b[49m\u001b[43margs\u001b[49m\u001b[43m,\u001b[49m\u001b[43m \u001b[49m\u001b[43m*\u001b[49m\u001b[43m*\u001b[49m\u001b[43mkwargs\u001b[49m\u001b[43m)\u001b[49m\n",
      "\u001b[31mFileNotFoundError\u001b[39m: [Errno 2] No such file or directory: 'simple.txt'"
     ]
    }
   ],
   "source": [
    "key=load_key(\"yourpassword123\")\n",
    "encrypt_file(\"simple.txt\",key)\n",
    "#decrypt_file(\"simpple.txt.enc\",key)"
   ]
  },
  {
   "cell_type": "code",
   "execution_count": 21,
   "id": "eca0144c-6e5d-44c8-ad6e-65c00d66b95e",
   "metadata": {},
   "outputs": [],
   "source": [
    "with open(\"simple.txt\",\"w\") as f:\n",
    "    f.write(\"This is Pavan's encrypted file. only authotized eyes allowed!\")"
   ]
  },
  {
   "cell_type": "code",
   "execution_count": 22,
   "id": "287613f5-b12f-45ff-baf8-567f7aa719b8",
   "metadata": {},
   "outputs": [
    {
     "name": "stdout",
     "output_type": "stream",
     "text": [
      "Encrypted Fernet key saved as 'enc_key.key'\n"
     ]
    }
   ],
   "source": [
    "generate_encrypted_key(\"yourpassword123\")"
   ]
  },
  {
   "cell_type": "code",
   "execution_count": 25,
   "id": "d30d9197-a9ac-481f-840f-a2913ba457c3",
   "metadata": {},
   "outputs": [
    {
     "name": "stdout",
     "output_type": "stream",
     "text": [
      "File encrypted successfully!\n"
     ]
    }
   ],
   "source": [
    "key=load_key(\"yourpassword123\")\n",
    "encrypt_file(\"simple.txt\",key)"
   ]
  },
  {
   "cell_type": "code",
   "execution_count": 26,
   "id": "88cc661d-6228-4cb1-a6a0-aba8c3f63d28",
   "metadata": {},
   "outputs": [
    {
     "name": "stdout",
     "output_type": "stream",
     "text": [
      "['.git', '.ipynb_checkpoints', 'enc_key.key', 'FileEncryptionDecryptionTool.ipynb', 'simple.txt', 'simple.txt.enc']\n"
     ]
    }
   ],
   "source": [
    "import os\n",
    "print(os.listdir())"
   ]
  },
  {
   "cell_type": "code",
   "execution_count": 27,
   "id": "b6dfa4bc-7aa2-47b2-be4a-da77f1c385f2",
   "metadata": {},
   "outputs": [
    {
     "name": "stdout",
     "output_type": "stream",
     "text": [
      "File decrypted successfully!\n"
     ]
    }
   ],
   "source": [
    "decrypt_file(\"simple.txt.enc\",key)"
   ]
  },
  {
   "cell_type": "code",
   "execution_count": 1,
   "id": "6b7cdc65-17b5-4961-9a69-f8d030100bb8",
   "metadata": {},
   "outputs": [],
   "source": [
    "import hashlib\n",
    "\n",
    "# Function to generate file hash (SHA-256)\n",
    "def generate_file_hash(file_path):\n",
    "    sha256_hash = hashlib.sha256()\n",
    "    with open(file_path, \"rb\") as f:\n",
    "        # Read and update hash string value in blocks of 4K\n",
    "        for byte_block in iter(lambda: f.read(4096), b\"\"):\n",
    "            sha256_hash.update(byte_block)\n",
    "    return sha256_hash.hexdigest()\n",
    "\n",
    "# Function to verify file hash\n",
    "def verify_file_hash(original_file, decrypted_file):\n",
    "    original_hash = generate_file_hash(original_file)\n",
    "    decrypted_hash = generate_file_hash(decrypted_file)\n",
    "    \n",
    "    if original_hash == decrypted_hash:\n",
    "        print(\"File integrity verified. No tampering detected.\")\n",
    "    else:\n",
    "        print(\"Warning: File tampering detected!\")"
   ]
  },
  {
   "cell_type": "code",
   "execution_count": 2,
   "id": "558518e7-747a-4b5e-97fb-af7b0a805ebd",
   "metadata": {},
   "outputs": [],
   "source": [
    "import os\n",
    "\n",
    "# Function to delete decrypted file\n",
    "def delete_file(file_path):\n",
    "    try:\n",
    "        os.remove(file_path)\n",
    "        print(f\"File {file_path} deleted successfully.\")\n",
    "    except FileNotFoundError:\n",
    "        print(f\"File {file_path} not found.\")"
   ]
  },
  {
   "cell_type": "code",
   "execution_count": 3,
   "id": "1c65788d-9b14-4c00-8ecc-0d568aa749e7",
   "metadata": {},
   "outputs": [],
   "source": [
    "import time\n",
    "\n",
    "# Function to check if the key has expired\n",
    "def check_key_expiry(expiry_time):\n",
    "    current_time = time.time()\n",
    "    if current_time > expiry_time:\n",
    "        print(\"The decryption key has expired. You cannot decrypt the file.\")\n",
    "        return False\n",
    "    else:\n",
    "        print(\"Key is valid.\")\n",
    "        return True\n",
    "\n",
    "# Set an expiry time (for example, 1 hour from now)\n",
    "expiry_time = time.time() + 3600  # 1 hour in the future"
   ]
  },
  {
   "cell_type": "code",
   "execution_count": 4,
   "id": "1bdf80a8-2685-4383-bacd-80775b05602c",
   "metadata": {},
   "outputs": [],
   "source": [
    "def decrypt_file_with_security(file_path, key, expiry_time=None):\n",
    "    # Check if the key has expired\n",
    "    if expiry_time and not check_key_expiry(expiry_time):\n",
    "        return\n",
    "    \n",
    "    # Decrypt the file\n",
    "    f = Fernet(key)\n",
    "    with open(file_path, 'rb') as file:\n",
    "        encrypted_data = file.read()\n",
    "    decrypted_data = f.decrypt(encrypted_data)\n",
    "    \n",
    "    original_file = file_path.replace(\".enc\", \"\")\n",
    "    with open(original_file, 'wb') as file:\n",
    "        file.write(decrypted_data)\n",
    "    \n",
    "    # Verify file integrity (hash check)\n",
    "    verify_file_hash(file_path.replace(\".enc\", \"\"), original_file)\n",
    "    \n",
    "    # Auto-delete decrypted file after use\n",
    "    delete_file(original_file)\n",
    "    \n",
    "    print(\"File decrypted and deleted successfully!\")"
   ]
  },
  {
   "cell_type": "code",
   "execution_count": 6,
   "id": "7611b02b-63bf-47f0-b8c0-4cdf81bc6642",
   "metadata": {},
   "outputs": [],
   "source": [
    "import os\n",
    "import hashlib\n",
    "import time\n",
    "from cryptography.fernet import Fernet\n",
    "from cryptography.hazmat.backends import default_backend\n",
    "from cryptography.hazmat.primitives import hashes\n",
    "from cryptography.hazmat.primitives.kdf.pbkdf2 import PBKDF2HMAC\n",
    "\n",
    "# Function to generate a key\n",
    "def generate_key(password: str):\n",
    "    # Generate a salt\n",
    "    salt = os.urandom(16)\n",
    "    \n",
    "    # Use PBKDF2 to derive a key from the password and salt\n",
    "    kdf = PBKDF2HMAC(\n",
    "        algorithm=hashes.SHA256(),\n",
    "        length=32,\n",
    "        salt=salt,\n",
    "        iterations=100000,\n",
    "        backend=default_backend()\n",
    "    )\n",
    "    \n",
    "    key = kdf.derive(password.encode())  # Generate key\n",
    "    # Save the key along with the salt in a file\n",
    "    with open(\"enc_key.key\", \"wb\") as key_file:\n",
    "        key_file.write(salt + key)  # Store salt and key\n",
    "\n",
    "# Function to load the key\n",
    "def load_key(password: str):\n",
    "    # Read the key and salt from the file\n",
    "    with open(\"enc_key.key\", \"rb\") as key_file:\n",
    "        data = key_file.read()\n",
    "        salt = data[:16]  # The first 16 bytes are the salt\n",
    "        key = data[16:]  # The rest is the key\n",
    "    \n",
    "    # Derive the key from the password and salt\n",
    "    kdf = PBKDF2HMAC(\n",
    "        algorithm=hashes.SHA256(),\n",
    "        length=32,\n",
    "        salt=salt,\n",
    "        iterations=100000,\n",
    "        backend=default_backend()\n",
    "    )\n",
    "    \n",
    "    kdf.verify(password.encode(), key)  # Verify the password is correct\n",
    "    return key\n",
    "\n",
    "# Function to encrypt a file\n",
    "def encrypt_file(file_path, key):\n",
    "    f = Fernet(key)  # Initialize Fernet with the key\n",
    "    with open(file_path, 'rb') as file:\n",
    "        data = file.read()\n",
    "    \n",
    "    encrypted_data = f.encrypt(data)\n",
    "    \n",
    "    with open(file_path + \".enc\", 'wb') as enc_file:\n",
    "        enc_file.write(encrypted_data)\n",
    "\n",
    "# Function to decrypt a file with security features\n",
    "def decrypt_file_with_security(file_path, key, expiry_time):\n",
    "    if time.time() > expiry_time:\n",
    "        print(\"Error: The decryption key has expired!\")\n",
    "        return\n",
    "\n",
    "    # Read the encrypted data\n",
    "    f = Fernet(key)\n",
    "    try:\n",
    "        with open(file_path, 'rb') as enc_file:\n",
    "            encrypted_data = enc_file.read()\n",
    "        \n",
    "        # Decrypt the data\n",
    "        decrypted_data = f.decrypt(encrypted_data)\n",
    "        \n",
    "        # Hash to verify file integrity\n",
    "        original_hash = hashlib.sha256(decrypted_data).hexdigest()\n",
    "        stored_hash = hashlib.sha256(encrypted_data).hexdigest()\n",
    "        \n",
    "        if original_hash != stored_hash:\n",
    "            print(\"Error: File integrity check failed!\")\n",
    "            return\n",
    "        \n",
    "        # Write the decrypted data to a new file\n",
    "        with open(file_path[:-4], 'wb') as dec_file:  # Remove \".enc\" extension\n",
    "            dec_file.write(decrypted_data)\n",
    "        \n",
    "        print(\"File decrypted successfully\")\n",
    "        \n",
    "        # Delete the decrypted file for auto-deletion\n",
    "        os.remove(file_path[:-4])\n",
    "        print(\"Decrypted file deleted automatically after processing.\")\n",
    "    except Exception as e:\n",
    "        print(f\"Error during decryption: {e}\")"
   ]
  },
  {
   "cell_type": "code",
   "execution_count": 7,
   "id": "4bbf2e5d-9051-4e56-95f6-f6e75ee9cf20",
   "metadata": {},
   "outputs": [
    {
     "ename": "InvalidKey",
     "evalue": "Keys do not match.",
     "output_type": "error",
     "traceback": [
      "\u001b[31m---------------------------------------------------------------------------\u001b[39m",
      "\u001b[31mInvalidKey\u001b[39m                                Traceback (most recent call last)",
      "\u001b[36mCell\u001b[39m\u001b[36m \u001b[39m\u001b[32mIn[7]\u001b[39m\u001b[32m, line 2\u001b[39m\n\u001b[32m      1\u001b[39m \u001b[38;5;66;03m# Encrypt the file\u001b[39;00m\n\u001b[32m----> \u001b[39m\u001b[32m2\u001b[39m key = \u001b[43mload_key\u001b[49m\u001b[43m(\u001b[49m\u001b[33;43m\"\u001b[39;49m\u001b[33;43myourpassword123\u001b[39;49m\u001b[33;43m\"\u001b[39;49m\u001b[43m)\u001b[49m  \u001b[38;5;66;03m# Load the encryption key\u001b[39;00m\n\u001b[32m      3\u001b[39m encrypt_file(\u001b[33m\"\u001b[39m\u001b[33msimple.txt\u001b[39m\u001b[33m\"\u001b[39m, key)  \u001b[38;5;66;03m# Make sure to replace 'simple.txt' with your actual file name\u001b[39;00m\n",
      "\u001b[36mCell\u001b[39m\u001b[36m \u001b[39m\u001b[32mIn[6]\u001b[39m\u001b[32m, line 45\u001b[39m, in \u001b[36mload_key\u001b[39m\u001b[34m(password)\u001b[39m\n\u001b[32m     36\u001b[39m \u001b[38;5;66;03m# Derive the key from the password and salt\u001b[39;00m\n\u001b[32m     37\u001b[39m kdf = PBKDF2HMAC(\n\u001b[32m     38\u001b[39m     algorithm=hashes.SHA256(),\n\u001b[32m     39\u001b[39m     length=\u001b[32m32\u001b[39m,\n\u001b[32m   (...)\u001b[39m\u001b[32m     42\u001b[39m     backend=default_backend()\n\u001b[32m     43\u001b[39m )\n\u001b[32m---> \u001b[39m\u001b[32m45\u001b[39m \u001b[43mkdf\u001b[49m\u001b[43m.\u001b[49m\u001b[43mverify\u001b[49m\u001b[43m(\u001b[49m\u001b[43mpassword\u001b[49m\u001b[43m.\u001b[49m\u001b[43mencode\u001b[49m\u001b[43m(\u001b[49m\u001b[43m)\u001b[49m\u001b[43m,\u001b[49m\u001b[43m \u001b[49m\u001b[43mkey\u001b[49m\u001b[43m)\u001b[49m  \u001b[38;5;66;03m# Verify the password is correct\u001b[39;00m\n\u001b[32m     46\u001b[39m \u001b[38;5;28;01mreturn\u001b[39;00m key\n",
      "\u001b[36mFile \u001b[39m\u001b[32m~\\AppData\\Local\\Programs\\Python\\Python313\\Lib\\site-packages\\cryptography\\hazmat\\primitives\\kdf\\pbkdf2.py:62\u001b[39m, in \u001b[36mPBKDF2HMAC.verify\u001b[39m\u001b[34m(self, key_material, expected_key)\u001b[39m\n\u001b[32m     60\u001b[39m derived_key = \u001b[38;5;28mself\u001b[39m.derive(key_material)\n\u001b[32m     61\u001b[39m \u001b[38;5;28;01mif\u001b[39;00m \u001b[38;5;129;01mnot\u001b[39;00m constant_time.bytes_eq(derived_key, expected_key):\n\u001b[32m---> \u001b[39m\u001b[32m62\u001b[39m     \u001b[38;5;28;01mraise\u001b[39;00m InvalidKey(\u001b[33m\"\u001b[39m\u001b[33mKeys do not match.\u001b[39m\u001b[33m\"\u001b[39m)\n",
      "\u001b[31mInvalidKey\u001b[39m: Keys do not match."
     ]
    }
   ],
   "source": [
    "# Encrypt the file\n",
    "key = load_key(\"yourpassword123\")  # Load the encryption key\n",
    "encrypt_file(\"simple.txt\", key)  # Make sure to replace 'simple.txt' with your actual file name"
   ]
  },
  {
   "cell_type": "code",
   "execution_count": 8,
   "id": "55ad44be-e5b8-4c9e-934a-88a306a31d84",
   "metadata": {},
   "outputs": [],
   "source": [
    "generate_key(\"yourpassword123\")"
   ]
  },
  {
   "cell_type": "code",
   "execution_count": 9,
   "id": "99751e7e-a8e3-4ade-9f50-25ea703124a4",
   "metadata": {},
   "outputs": [],
   "source": [
    "key = load_key(\"yourpassword123\")"
   ]
  },
  {
   "cell_type": "code",
   "execution_count": 10,
   "id": "3ff52a5f-4d92-4bf6-982f-44a0bb2ec9b0",
   "metadata": {},
   "outputs": [
    {
     "ename": "ValueError",
     "evalue": "Fernet key must be 32 url-safe base64-encoded bytes.",
     "output_type": "error",
     "traceback": [
      "\u001b[31m---------------------------------------------------------------------------\u001b[39m",
      "\u001b[31mError\u001b[39m                                     Traceback (most recent call last)",
      "\u001b[36mFile \u001b[39m\u001b[32m~\\AppData\\Local\\Programs\\Python\\Python313\\Lib\\site-packages\\cryptography\\fernet.py:34\u001b[39m, in \u001b[36mFernet.__init__\u001b[39m\u001b[34m(self, key, backend)\u001b[39m\n\u001b[32m     33\u001b[39m \u001b[38;5;28;01mtry\u001b[39;00m:\n\u001b[32m---> \u001b[39m\u001b[32m34\u001b[39m     key = \u001b[43mbase64\u001b[49m\u001b[43m.\u001b[49m\u001b[43murlsafe_b64decode\u001b[49m\u001b[43m(\u001b[49m\u001b[43mkey\u001b[49m\u001b[43m)\u001b[49m\n\u001b[32m     35\u001b[39m \u001b[38;5;28;01mexcept\u001b[39;00m binascii.Error \u001b[38;5;28;01mas\u001b[39;00m exc:\n",
      "\u001b[36mFile \u001b[39m\u001b[32m~\\AppData\\Local\\Programs\\Python\\Python313\\Lib\\base64.py:134\u001b[39m, in \u001b[36murlsafe_b64decode\u001b[39m\u001b[34m(s)\u001b[39m\n\u001b[32m    133\u001b[39m s = s.translate(_urlsafe_decode_translation)\n\u001b[32m--> \u001b[39m\u001b[32m134\u001b[39m \u001b[38;5;28;01mreturn\u001b[39;00m \u001b[43mb64decode\u001b[49m\u001b[43m(\u001b[49m\u001b[43ms\u001b[49m\u001b[43m)\u001b[49m\n",
      "\u001b[36mFile \u001b[39m\u001b[32m~\\AppData\\Local\\Programs\\Python\\Python313\\Lib\\base64.py:88\u001b[39m, in \u001b[36mb64decode\u001b[39m\u001b[34m(s, altchars, validate)\u001b[39m\n\u001b[32m     87\u001b[39m     s = s.translate(\u001b[38;5;28mbytes\u001b[39m.maketrans(altchars, \u001b[33mb\u001b[39m\u001b[33m'\u001b[39m\u001b[33m+/\u001b[39m\u001b[33m'\u001b[39m))\n\u001b[32m---> \u001b[39m\u001b[32m88\u001b[39m \u001b[38;5;28;01mreturn\u001b[39;00m \u001b[43mbinascii\u001b[49m\u001b[43m.\u001b[49m\u001b[43ma2b_base64\u001b[49m\u001b[43m(\u001b[49m\u001b[43ms\u001b[49m\u001b[43m,\u001b[49m\u001b[43m \u001b[49m\u001b[43mstrict_mode\u001b[49m\u001b[43m=\u001b[49m\u001b[43mvalidate\u001b[49m\u001b[43m)\u001b[49m\n",
      "\u001b[31mError\u001b[39m: Incorrect padding",
      "\nThe above exception was the direct cause of the following exception:\n",
      "\u001b[31mValueError\u001b[39m                                Traceback (most recent call last)",
      "\u001b[36mCell\u001b[39m\u001b[36m \u001b[39m\u001b[32mIn[10]\u001b[39m\u001b[32m, line 1\u001b[39m\n\u001b[32m----> \u001b[39m\u001b[32m1\u001b[39m \u001b[43mencrypt_file\u001b[49m\u001b[43m(\u001b[49m\u001b[33;43m\"\u001b[39;49m\u001b[33;43msimple.txt\u001b[39;49m\u001b[33;43m\"\u001b[39;49m\u001b[43m,\u001b[49m\u001b[43mkey\u001b[49m\u001b[43m)\u001b[49m\n",
      "\u001b[36mCell\u001b[39m\u001b[36m \u001b[39m\u001b[32mIn[6]\u001b[39m\u001b[32m, line 50\u001b[39m, in \u001b[36mencrypt_file\u001b[39m\u001b[34m(file_path, key)\u001b[39m\n\u001b[32m     49\u001b[39m \u001b[38;5;28;01mdef\u001b[39;00m\u001b[38;5;250m \u001b[39m\u001b[34mencrypt_file\u001b[39m(file_path, key):\n\u001b[32m---> \u001b[39m\u001b[32m50\u001b[39m     f = \u001b[43mFernet\u001b[49m\u001b[43m(\u001b[49m\u001b[43mkey\u001b[49m\u001b[43m)\u001b[49m  \u001b[38;5;66;03m# Initialize Fernet with the key\u001b[39;00m\n\u001b[32m     51\u001b[39m     \u001b[38;5;28;01mwith\u001b[39;00m \u001b[38;5;28mopen\u001b[39m(file_path, \u001b[33m'\u001b[39m\u001b[33mrb\u001b[39m\u001b[33m'\u001b[39m) \u001b[38;5;28;01mas\u001b[39;00m file:\n\u001b[32m     52\u001b[39m         data = file.read()\n",
      "\u001b[36mFile \u001b[39m\u001b[32m~\\AppData\\Local\\Programs\\Python\\Python313\\Lib\\site-packages\\cryptography\\fernet.py:36\u001b[39m, in \u001b[36mFernet.__init__\u001b[39m\u001b[34m(self, key, backend)\u001b[39m\n\u001b[32m     34\u001b[39m     key = base64.urlsafe_b64decode(key)\n\u001b[32m     35\u001b[39m \u001b[38;5;28;01mexcept\u001b[39;00m binascii.Error \u001b[38;5;28;01mas\u001b[39;00m exc:\n\u001b[32m---> \u001b[39m\u001b[32m36\u001b[39m     \u001b[38;5;28;01mraise\u001b[39;00m \u001b[38;5;167;01mValueError\u001b[39;00m(\n\u001b[32m     37\u001b[39m         \u001b[33m\"\u001b[39m\u001b[33mFernet key must be 32 url-safe base64-encoded bytes.\u001b[39m\u001b[33m\"\u001b[39m\n\u001b[32m     38\u001b[39m     ) \u001b[38;5;28;01mfrom\u001b[39;00m\u001b[38;5;250m \u001b[39m\u001b[34;01mexc\u001b[39;00m\n\u001b[32m     39\u001b[39m \u001b[38;5;28;01mif\u001b[39;00m \u001b[38;5;28mlen\u001b[39m(key) != \u001b[32m32\u001b[39m:\n\u001b[32m     40\u001b[39m     \u001b[38;5;28;01mraise\u001b[39;00m \u001b[38;5;167;01mValueError\u001b[39;00m(\n\u001b[32m     41\u001b[39m         \u001b[33m\"\u001b[39m\u001b[33mFernet key must be 32 url-safe base64-encoded bytes.\u001b[39m\u001b[33m\"\u001b[39m\n\u001b[32m     42\u001b[39m     )\n",
      "\u001b[31mValueError\u001b[39m: Fernet key must be 32 url-safe base64-encoded bytes."
     ]
    }
   ],
   "source": [
    "encrypt_file(\"simple.txt\",key)"
   ]
  },
  {
   "cell_type": "code",
   "execution_count": 11,
   "id": "4e2aefcd-34a6-4c84-924a-8863b5816280",
   "metadata": {},
   "outputs": [
    {
     "name": "stdout",
     "output_type": "stream",
     "text": [
      "Key generated and saved as 'enc_key.key'.\n"
     ]
    }
   ],
   "source": [
    "from cryptography.fernet import Fernet\n",
    "\n",
    "def generate_key():\n",
    "    key = Fernet.generate_key()\n",
    "    with open(\"enc_key.key\", \"wb\") as key_file:\n",
    "        key_file.write(key)\n",
    "    print(\"Key generated and saved as 'enc_key.key'.\")\n",
    "\n",
    "generate_key()"
   ]
  },
  {
   "cell_type": "code",
   "execution_count": 12,
   "id": "93e76dad-5762-4cd9-bc6f-e17a3e792c41",
   "metadata": {},
   "outputs": [],
   "source": [
    "def load_key():\n",
    "    with open(\"enc_key.key\", \"rb\") as key_file:\n",
    "        return key_file.read()\n",
    "\n",
    "key = load_key()"
   ]
  },
  {
   "cell_type": "code",
   "execution_count": 13,
   "id": "2ed9d7b4-c168-4006-b622-b2bdbbc4ba97",
   "metadata": {},
   "outputs": [
    {
     "name": "stdout",
     "output_type": "stream",
     "text": [
      "File encrypted successfully.\n"
     ]
    }
   ],
   "source": [
    "def encrypt_file(file_path, key):\n",
    "    f = Fernet(key)\n",
    "    with open(file_path, \"rb\") as file:\n",
    "        data = file.read()\n",
    "    encrypted_data = f.encrypt(data)\n",
    "    with open(file_path + \".enc\", \"wb\") as file:\n",
    "        file.write(encrypted_data)\n",
    "    print(\"File encrypted successfully.\")\n",
    "\n",
    "encrypt_file(\"simple.txt\", key)"
   ]
  },
  {
   "cell_type": "code",
   "execution_count": 14,
   "id": "4bb82932-c103-44f3-aff6-c906d56ecd36",
   "metadata": {},
   "outputs": [
    {
     "name": "stdout",
     "output_type": "stream",
     "text": [
      "File decrypted successfully.\n"
     ]
    }
   ],
   "source": [
    "def decrypt_file(file_path, key):\n",
    "    f = Fernet(key)\n",
    "    with open(file_path, \"rb\") as file:\n",
    "        encrypted_data = file.read()\n",
    "    decrypted_data = f.decrypt(encrypted_data)\n",
    "\n",
    "    # Save the decrypted file (you can choose a different name if needed)\n",
    "    with open(\"decrypted_\" + file_path.replace(\".enc\", \"\"), \"wb\") as file:\n",
    "        file.write(decrypted_data)\n",
    "    print(\"File decrypted successfully.\")\n",
    "\n",
    "# Call the function\n",
    "decrypt_file(\"simple.txt.enc\", key)"
   ]
  },
  {
   "cell_type": "code",
   "execution_count": null,
   "id": "45680aa4-d2c6-4606-b3e9-0ffefe313e8b",
   "metadata": {},
   "outputs": [],
   "source": []
  }
 ],
 "metadata": {
  "kernelspec": {
   "display_name": "Python 3 (ipykernel)",
   "language": "python",
   "name": "python3"
  },
  "language_info": {
   "codemirror_mode": {
    "name": "ipython",
    "version": 3
   },
   "file_extension": ".py",
   "mimetype": "text/x-python",
   "name": "python",
   "nbconvert_exporter": "python",
   "pygments_lexer": "ipython3",
   "version": "3.13.3"
  }
 },
 "nbformat": 4,
 "nbformat_minor": 5
}
