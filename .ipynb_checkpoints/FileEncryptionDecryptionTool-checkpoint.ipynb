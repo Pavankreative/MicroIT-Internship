{
 "cells": [
  {
   "cell_type": "code",
   "execution_count": 1,
   "id": "3adffae3-90de-49e7-a5b3-658342f4526b",
   "metadata": {},
   "outputs": [
    {
     "name": "stdout",
     "output_type": "stream",
     "text": [
      "Requirement already satisfied: cryptography in c:\\users\\dell\\appdata\\local\\programs\\python\\python313\\lib\\site-packages (44.0.2)\n",
      "Requirement already satisfied: cffi>=1.12 in c:\\users\\dell\\appdata\\local\\programs\\python\\python313\\lib\\site-packages (from cryptography) (1.17.1)\n",
      "Requirement already satisfied: pycparser in c:\\users\\dell\\appdata\\local\\programs\\python\\python313\\lib\\site-packages (from cffi>=1.12->cryptography) (2.22)\n"
     ]
    }
   ],
   "source": [
    "!pip install cryptography"
   ]
  },
  {
   "cell_type": "code",
   "execution_count": 2,
   "id": "b2f81f6e-09fa-49fc-a5b2-cf6cce72142b",
   "metadata": {},
   "outputs": [
    {
     "name": "stdout",
     "output_type": "stream",
     "text": [
      "Encrypted: b'gAAAAABn_5PZqBsN2lDIT-AMBPLmmZiLfRpg-vtWqmS5We8K7q6yFv-JfKflp0OoIh8z7n3y2xwc3RLvnvEomJZaQu3rtjxyMQ=='\n",
      "Decrypted: b'Hello, Pavan!'\n"
     ]
    }
   ],
   "source": [
    "from cryptography.fernet import Fernet\n",
    "\n",
    "key = Fernet.generate_key()\n",
    "cipher = Fernet(key)\n",
    "encrypted = cipher.encrypt(b\"Hello, Pavan!\")\n",
    "print(\"Encrypted:\", encrypted)\n",
    "\n",
    "decrypted = cipher.decrypt(encrypted)\n",
    "print(\"Decrypted:\", decrypted)"
   ]
  },
  {
   "cell_type": "code",
   "execution_count": 8,
   "id": "1fbceb67-3928-442c-aebc-e8cae7af48c2",
   "metadata": {},
   "outputs": [],
   "source": [
    "from cryptography.fernet import Fernet"
   ]
  },
  {
   "cell_type": "code",
   "execution_count": 9,
   "id": "cb447efd-e81f-4641-87a0-5313e25fde00",
   "metadata": {},
   "outputs": [
    {
     "name": "stdout",
     "output_type": "stream",
     "text": [
      "Key generated successfully!\n"
     ]
    }
   ],
   "source": [
    "key = Fernet.generate_key()\n",
    "cipher = Fernet(key)\n",
    "print(\"Key generated successfully!\")"
   ]
  },
  {
   "cell_type": "code",
   "execution_count": 12,
   "id": "39025e26-c7d0-4757-baa9-2e5b37379698",
   "metadata": {},
   "outputs": [],
   "source": [
    "# Password-protected key generation\n",
    "from cryptography.fernet import Fernet\n",
    "from cryptography.hazmat.primitives.kdf.pbkdf2 import PBKDF2HMAC\n",
    "from cryptography.hazmat.primitives import hashes\n",
    "from cryptography.hazmat.backends import default_backend\n",
    "import base64, os\n",
    "\n",
    "def generate_encrypted_key(password: str):\n",
    "    key = Fernet.generate_key()\n",
    "    \n",
    "    salt = os.urandom(16)\n",
    "    kdf = PBKDF2HMAC(\n",
    "        algorithm=hashes.SHA256(),\n",
    "        length=32,\n",
    "        salt=salt,\n",
    "        iterations=100000,\n",
    "        backend=default_backend()\n",
    "    )\n",
    "    password_key = base64.urlsafe_b64encode(kdf.derive(password.encode()))\n",
    "    f = Fernet(password_key)\n",
    "    encrypted_key = f.encrypt(key)\n",
    "    \n",
    "    with open(\"enc_key.key\", \"wb\") as file:\n",
    "        file.write(salt + encrypted_key)\n",
    "    \n",
    "    print(\"Encrypted Fernet key saved as 'enc_key.key'\")"
   ]
  },
  {
   "cell_type": "code",
   "execution_count": 13,
   "id": "3d273964-9dd7-4028-bdd9-28960ebb2f75",
   "metadata": {},
   "outputs": [],
   "source": [
    "def load_key(password: str):\n",
    "    with open(\"enc_key.key\", \"rb\") as file:\n",
    "        data = file.read()\n",
    "        salt = data[:16]\n",
    "        encrypted_key = data[16:]\n",
    "        \n",
    "        kdf = PBKDF2HMAC(\n",
    "            algorithm=hashes.SHA256(),\n",
    "            length=32,\n",
    "            salt=salt,\n",
    "            iterations=100000,\n",
    "            backend=default_backend()\n",
    "        )\n",
    "        password_key = base64.urlsafe_b64encode(kdf.derive(password.encode()))\n",
    "        f = Fernet(password_key)\n",
    "        key = f.decrypt(encrypted_key)\n",
    "        return key"
   ]
  },
  {
   "cell_type": "code",
   "execution_count": 14,
   "id": "f33e505f-9efd-4e87-aa25-a5aee7ee04ca",
   "metadata": {},
   "outputs": [],
   "source": [
    "def encrypt_file(file_path, key):\n",
    "    f = Fernet(key)\n",
    "    with open(file_path, 'rb') as file:\n",
    "        data = file.read()\n",
    "    encrypted_data = f.encrypt(data)\n",
    "    with open(file_path + \".enc\", 'wb') as file:\n",
    "        file.write(encrypted_data)\n",
    "    print(\"File encrypted successfully!\")\n",
    "\n",
    "def decrypt_file(file_path, key):\n",
    "    f = Fernet(key)\n",
    "    with open(file_path, 'rb') as file:\n",
    "        encrypted_data = file.read()\n",
    "    decrypted_data = f.decrypt(encrypted_data)\n",
    "    original_file = file_path.replace(\".enc\", \"\")\n",
    "    with open(original_file, 'wb') as file:\n",
    "        file.write(decrypted_data)\n",
    "    print(\"File decrypted successfully!\")"
   ]
  },
  {
   "cell_type": "code",
   "execution_count": 16,
   "id": "573520ab-34d3-4cf4-b3e9-dbd3ab0d2727",
   "metadata": {},
   "outputs": [
    {
     "ename": "FileNotFoundError",
     "evalue": "[Errno 2] No such file or directory: 'enc_key.key'",
     "output_type": "error",
     "traceback": [
      "\u001b[31m---------------------------------------------------------------------------\u001b[39m",
      "\u001b[31mFileNotFoundError\u001b[39m                         Traceback (most recent call last)",
      "\u001b[36mCell\u001b[39m\u001b[36m \u001b[39m\u001b[32mIn[16]\u001b[39m\u001b[32m, line 6\u001b[39m\n\u001b[32m      1\u001b[39m \u001b[38;5;66;03m#GENERATE KEY\u001b[39;00m\n\u001b[32m      2\u001b[39m \u001b[38;5;66;03m# Only run once\u001b[39;00m\n\u001b[32m      3\u001b[39m \u001b[38;5;66;03m# generate_encrypted_key(\"yourpassword123\")\u001b[39;00m\n\u001b[32m      4\u001b[39m \n\u001b[32m      5\u001b[39m \u001b[38;5;66;03m# LOAD KEY\u001b[39;00m\n\u001b[32m----> \u001b[39m\u001b[32m6\u001b[39m key = \u001b[43mload_key\u001b[49m\u001b[43m(\u001b[49m\u001b[33;43m\"\u001b[39;49m\u001b[33;43myourpassword123\u001b[39;49m\u001b[33;43m\"\u001b[39;49m\u001b[43m)\u001b[49m\n\u001b[32m      8\u001b[39m \u001b[38;5;66;03m# ENCRYPT OR DECRYPT\u001b[39;00m\n\u001b[32m      9\u001b[39m encrypt_file(\u001b[33m\"\u001b[39m\u001b[33msample.txt\u001b[39m\u001b[33m\"\u001b[39m, key)\n",
      "\u001b[36mCell\u001b[39m\u001b[36m \u001b[39m\u001b[32mIn[13]\u001b[39m\u001b[32m, line 2\u001b[39m, in \u001b[36mload_key\u001b[39m\u001b[34m(password)\u001b[39m\n\u001b[32m      1\u001b[39m \u001b[38;5;28;01mdef\u001b[39;00m\u001b[38;5;250m \u001b[39m\u001b[34mload_key\u001b[39m(password: \u001b[38;5;28mstr\u001b[39m):\n\u001b[32m----> \u001b[39m\u001b[32m2\u001b[39m     \u001b[38;5;28;01mwith\u001b[39;00m \u001b[38;5;28;43mopen\u001b[39;49m\u001b[43m(\u001b[49m\u001b[33;43m\"\u001b[39;49m\u001b[33;43menc_key.key\u001b[39;49m\u001b[33;43m\"\u001b[39;49m\u001b[43m,\u001b[49m\u001b[43m \u001b[49m\u001b[33;43m\"\u001b[39;49m\u001b[33;43mrb\u001b[39;49m\u001b[33;43m\"\u001b[39;49m\u001b[43m)\u001b[49m \u001b[38;5;28;01mas\u001b[39;00m file:\n\u001b[32m      3\u001b[39m         data = file.read()\n\u001b[32m      4\u001b[39m         salt = data[:\u001b[32m16\u001b[39m]\n",
      "\u001b[36mFile \u001b[39m\u001b[32m~\\AppData\\Local\\Programs\\Python\\Python313\\Lib\\site-packages\\IPython\\core\\interactiveshell.py:326\u001b[39m, in \u001b[36m_modified_open\u001b[39m\u001b[34m(file, *args, **kwargs)\u001b[39m\n\u001b[32m    319\u001b[39m \u001b[38;5;28;01mif\u001b[39;00m file \u001b[38;5;129;01min\u001b[39;00m {\u001b[32m0\u001b[39m, \u001b[32m1\u001b[39m, \u001b[32m2\u001b[39m}:\n\u001b[32m    320\u001b[39m     \u001b[38;5;28;01mraise\u001b[39;00m \u001b[38;5;167;01mValueError\u001b[39;00m(\n\u001b[32m    321\u001b[39m         \u001b[33mf\u001b[39m\u001b[33m\"\u001b[39m\u001b[33mIPython won\u001b[39m\u001b[33m'\u001b[39m\u001b[33mt let you open fd=\u001b[39m\u001b[38;5;132;01m{\u001b[39;00mfile\u001b[38;5;132;01m}\u001b[39;00m\u001b[33m by default \u001b[39m\u001b[33m\"\u001b[39m\n\u001b[32m    322\u001b[39m         \u001b[33m\"\u001b[39m\u001b[33mas it is likely to crash IPython. If you know what you are doing, \u001b[39m\u001b[33m\"\u001b[39m\n\u001b[32m    323\u001b[39m         \u001b[33m\"\u001b[39m\u001b[33myou can use builtins\u001b[39m\u001b[33m'\u001b[39m\u001b[33m open.\u001b[39m\u001b[33m\"\u001b[39m\n\u001b[32m    324\u001b[39m     )\n\u001b[32m--> \u001b[39m\u001b[32m326\u001b[39m \u001b[38;5;28;01mreturn\u001b[39;00m \u001b[43mio_open\u001b[49m\u001b[43m(\u001b[49m\u001b[43mfile\u001b[49m\u001b[43m,\u001b[49m\u001b[43m \u001b[49m\u001b[43m*\u001b[49m\u001b[43margs\u001b[49m\u001b[43m,\u001b[49m\u001b[43m \u001b[49m\u001b[43m*\u001b[49m\u001b[43m*\u001b[49m\u001b[43mkwargs\u001b[49m\u001b[43m)\u001b[49m\n",
      "\u001b[31mFileNotFoundError\u001b[39m: [Errno 2] No such file or directory: 'enc_key.key'"
     ]
    }
   ],
   "source": [
    "#GENERATE KEY\n",
    "# Only run once\n",
    "# generate_encrypted_key(\"yourpassword123\")\n",
    "\n",
    "# LOAD KEY\n",
    "key = load_key(\"yourpassword123\")\n",
    "\n",
    "# ENCRYPT OR DECRYPT\n",
    "encrypt_file(\"sample.txt\", key)\n",
    "# decrypt_file(\"sample.txt.enc\", key)"
   ]
  },
  {
   "cell_type": "code",
   "execution_count": 18,
   "id": "71a52ee6-c464-40b2-97d2-3f0ed0ca0e6c",
   "metadata": {},
   "outputs": [
    {
     "name": "stdout",
     "output_type": "stream",
     "text": [
      "Encrypted Fernet key saved as 'enc_key.key'\n"
     ]
    }
   ],
   "source": [
    "generate_encrypted_key(\"yourpassword123\")"
   ]
  },
  {
   "cell_type": "code",
   "execution_count": 20,
   "id": "8db6946f-080a-4c40-ba28-aeeec585430d",
   "metadata": {},
   "outputs": [
    {
     "ename": "FileNotFoundError",
     "evalue": "[Errno 2] No such file or directory: 'simple.txt'",
     "output_type": "error",
     "traceback": [
      "\u001b[31m---------------------------------------------------------------------------\u001b[39m",
      "\u001b[31mFileNotFoundError\u001b[39m                         Traceback (most recent call last)",
      "\u001b[36mCell\u001b[39m\u001b[36m \u001b[39m\u001b[32mIn[20]\u001b[39m\u001b[32m, line 2\u001b[39m\n\u001b[32m      1\u001b[39m key=load_key(\u001b[33m\"\u001b[39m\u001b[33myourpassword123\u001b[39m\u001b[33m\"\u001b[39m)\n\u001b[32m----> \u001b[39m\u001b[32m2\u001b[39m \u001b[43mencrypt_file\u001b[49m\u001b[43m(\u001b[49m\u001b[33;43m\"\u001b[39;49m\u001b[33;43msimple.txt\u001b[39;49m\u001b[33;43m\"\u001b[39;49m\u001b[43m,\u001b[49m\u001b[43mkey\u001b[49m\u001b[43m)\u001b[49m\n\u001b[32m      3\u001b[39m \u001b[38;5;66;03m#decrypt_file(\"simpple.txt.enc\",key)\u001b[39;00m\n",
      "\u001b[36mCell\u001b[39m\u001b[36m \u001b[39m\u001b[32mIn[14]\u001b[39m\u001b[32m, line 3\u001b[39m, in \u001b[36mencrypt_file\u001b[39m\u001b[34m(file_path, key)\u001b[39m\n\u001b[32m      1\u001b[39m \u001b[38;5;28;01mdef\u001b[39;00m\u001b[38;5;250m \u001b[39m\u001b[34mencrypt_file\u001b[39m(file_path, key):\n\u001b[32m      2\u001b[39m     f = Fernet(key)\n\u001b[32m----> \u001b[39m\u001b[32m3\u001b[39m     \u001b[38;5;28;01mwith\u001b[39;00m \u001b[38;5;28;43mopen\u001b[39;49m\u001b[43m(\u001b[49m\u001b[43mfile_path\u001b[49m\u001b[43m,\u001b[49m\u001b[43m \u001b[49m\u001b[33;43m'\u001b[39;49m\u001b[33;43mrb\u001b[39;49m\u001b[33;43m'\u001b[39;49m\u001b[43m)\u001b[49m \u001b[38;5;28;01mas\u001b[39;00m file:\n\u001b[32m      4\u001b[39m         data = file.read()\n\u001b[32m      5\u001b[39m     encrypted_data = f.encrypt(data)\n",
      "\u001b[36mFile \u001b[39m\u001b[32m~\\AppData\\Local\\Programs\\Python\\Python313\\Lib\\site-packages\\IPython\\core\\interactiveshell.py:326\u001b[39m, in \u001b[36m_modified_open\u001b[39m\u001b[34m(file, *args, **kwargs)\u001b[39m\n\u001b[32m    319\u001b[39m \u001b[38;5;28;01mif\u001b[39;00m file \u001b[38;5;129;01min\u001b[39;00m {\u001b[32m0\u001b[39m, \u001b[32m1\u001b[39m, \u001b[32m2\u001b[39m}:\n\u001b[32m    320\u001b[39m     \u001b[38;5;28;01mraise\u001b[39;00m \u001b[38;5;167;01mValueError\u001b[39;00m(\n\u001b[32m    321\u001b[39m         \u001b[33mf\u001b[39m\u001b[33m\"\u001b[39m\u001b[33mIPython won\u001b[39m\u001b[33m'\u001b[39m\u001b[33mt let you open fd=\u001b[39m\u001b[38;5;132;01m{\u001b[39;00mfile\u001b[38;5;132;01m}\u001b[39;00m\u001b[33m by default \u001b[39m\u001b[33m\"\u001b[39m\n\u001b[32m    322\u001b[39m         \u001b[33m\"\u001b[39m\u001b[33mas it is likely to crash IPython. If you know what you are doing, \u001b[39m\u001b[33m\"\u001b[39m\n\u001b[32m    323\u001b[39m         \u001b[33m\"\u001b[39m\u001b[33myou can use builtins\u001b[39m\u001b[33m'\u001b[39m\u001b[33m open.\u001b[39m\u001b[33m\"\u001b[39m\n\u001b[32m    324\u001b[39m     )\n\u001b[32m--> \u001b[39m\u001b[32m326\u001b[39m \u001b[38;5;28;01mreturn\u001b[39;00m \u001b[43mio_open\u001b[49m\u001b[43m(\u001b[49m\u001b[43mfile\u001b[49m\u001b[43m,\u001b[49m\u001b[43m \u001b[49m\u001b[43m*\u001b[49m\u001b[43margs\u001b[49m\u001b[43m,\u001b[49m\u001b[43m \u001b[49m\u001b[43m*\u001b[49m\u001b[43m*\u001b[49m\u001b[43mkwargs\u001b[49m\u001b[43m)\u001b[49m\n",
      "\u001b[31mFileNotFoundError\u001b[39m: [Errno 2] No such file or directory: 'simple.txt'"
     ]
    }
   ],
   "source": [
    "key=load_key(\"yourpassword123\")\n",
    "encrypt_file(\"simple.txt\",key)\n",
    "#decrypt_file(\"simpple.txt.enc\",key)"
   ]
  },
  {
   "cell_type": "code",
   "execution_count": 21,
   "id": "eca0144c-6e5d-44c8-ad6e-65c00d66b95e",
   "metadata": {},
   "outputs": [],
   "source": [
    "with open(\"simple.txt\",\"w\") as f:\n",
    "    f.write(\"This is Pavan's encrypted file. only authotized eyes allowed!\")"
   ]
  },
  {
   "cell_type": "code",
   "execution_count": 22,
   "id": "287613f5-b12f-45ff-baf8-567f7aa719b8",
   "metadata": {},
   "outputs": [
    {
     "name": "stdout",
     "output_type": "stream",
     "text": [
      "Encrypted Fernet key saved as 'enc_key.key'\n"
     ]
    }
   ],
   "source": [
    "generate_encrypted_key(\"yourpassword123\")"
   ]
  },
  {
   "cell_type": "code",
   "execution_count": 25,
   "id": "d30d9197-a9ac-481f-840f-a2913ba457c3",
   "metadata": {},
   "outputs": [
    {
     "name": "stdout",
     "output_type": "stream",
     "text": [
      "File encrypted successfully!\n"
     ]
    }
   ],
   "source": [
    "key=load_key(\"yourpassword123\")\n",
    "encrypt_file(\"simple.txt\",key)"
   ]
  },
  {
   "cell_type": "code",
   "execution_count": 26,
   "id": "88cc661d-6228-4cb1-a6a0-aba8c3f63d28",
   "metadata": {},
   "outputs": [
    {
     "name": "stdout",
     "output_type": "stream",
     "text": [
      "['.git', '.ipynb_checkpoints', 'enc_key.key', 'FileEncryptionDecryptionTool.ipynb', 'simple.txt', 'simple.txt.enc']\n"
     ]
    }
   ],
   "source": [
    "import os\n",
    "print(os.listdir())"
   ]
  },
  {
   "cell_type": "code",
   "execution_count": 27,
   "id": "b6dfa4bc-7aa2-47b2-be4a-da77f1c385f2",
   "metadata": {},
   "outputs": [
    {
     "name": "stdout",
     "output_type": "stream",
     "text": [
      "File decrypted successfully!\n"
     ]
    }
   ],
   "source": [
    "decrypt_file(\"simple.txt.enc\",key)"
   ]
  },
  {
   "cell_type": "code",
   "execution_count": null,
   "id": "6b7cdc65-17b5-4961-9a69-f8d030100bb8",
   "metadata": {},
   "outputs": [],
   "source": []
  }
 ],
 "metadata": {
  "kernelspec": {
   "display_name": "Python 3 (ipykernel)",
   "language": "python",
   "name": "python3"
  },
  "language_info": {
   "codemirror_mode": {
    "name": "ipython",
    "version": 3
   },
   "file_extension": ".py",
   "mimetype": "text/x-python",
   "name": "python",
   "nbconvert_exporter": "python",
   "pygments_lexer": "ipython3",
   "version": "3.13.3"
  }
 },
 "nbformat": 4,
 "nbformat_minor": 5
}
